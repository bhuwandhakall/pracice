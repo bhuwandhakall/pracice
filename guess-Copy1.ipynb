{
 "cells": [
  {
   "cell_type": "code",
   "execution_count": 1,
   "id": "f132f5c9",
   "metadata": {},
   "outputs": [
    {
     "name": "stdout",
     "output_type": "stream",
     "text": [
      "Enter the start of the range: 3\n",
      "Enter the end of the range: 17\n",
      "Prime numbers within the range:  [3, 5, 7, 11, 13, 17]\n"
     ]
    }
   ],
   "source": [
    "def is_prime(n):\n",
    "    if n <= 1:\n",
    "        return False\n",
    "    if n == 2:\n",
    "        return True\n",
    "    if n % 2 == 0:\n",
    "        return False\n",
    "    for i in range(3, int(n**0.5) + 1, 2):\n",
    "        if n % i == 0:\n",
    "            return False\n",
    "    return True\n",
    "\n",
    "def find_primes(start, end):\n",
    "    primes = []\n",
    "    for num in range(start, end + 1):\n",
    "        if is_prime(num):\n",
    "            primes.append(num)\n",
    "    return primes\n",
    "\n",
    "start = int(input(\"Enter the start of the range: \"))\n",
    "end = int(input(\"Enter the end of the range: \"))\n",
    "primes = find_primes(start, end)\n",
    "print(\"Prime numbers within the range: \", primes)"
   ]
  },
  {
   "cell_type": "code",
   "execution_count": 1,
   "id": "bd2f23ce",
   "metadata": {},
   "outputs": [
    {
     "name": "stdout",
     "output_type": "stream",
     "text": [
      "Enter the start of the range: 3\n",
      "Enter the end of the range: 17\n",
      "Prime numbers within the range:  [3, 5, 7, 11, 13, 17]\n"
     ]
    }
   ],
   "source": [
    "def is_prime(n):\n",
    "    if n <= 1:\n",
    "        return False\n",
    "    if n == 2:\n",
    "        return True\n",
    "    if n % 2 == 0:\n",
    "        return False\n",
    "    for i in range(3, int(n**0.5) + 1, 2):\n",
    "        if n % i == 0:\n",
    "            return False\n",
    "    return True\n",
    "\n",
    "def find_primes(start, end):\n",
    "    primes = []\n",
    "    for num in range(start, end + 1):\n",
    "        if is_prime(num):\n",
    "            primes.append(num)\n",
    "    return primes\n",
    "\n",
    "start = int(input(\"Enter the start of the range: \"))\n",
    "end = int(input(\"Enter the end of the range: \"))\n",
    "primes = find_primes(start, end)\n",
    "print(\"Prime numbers within the range: \", primes)"
   ]
  },
  {
   "cell_type": "code",
   "execution_count": 1,
   "id": "bbbc0ffe",
   "metadata": {},
   "outputs": [
    {
     "name": "stdout",
     "output_type": "stream",
     "text": [
      "Enter the start of the range: 3\n",
      "Enter the end of the range: 17\n",
      "Prime numbers within the range:  [3, 5, 7, 11, 13, 17]\n"
     ]
    }
   ],
   "source": [
    "def is_prime(n):\n",
    "    if n <= 1:\n",
    "        return False\n",
    "    if n == 2:\n",
    "        return True\n",
    "    if n % 2 == 0:\n",
    "        return False\n",
    "    for i in range(3, int(n**0.5) + 1, 2):\n",
    "        if n % i == 0:\n",
    "            return False\n",
    "    return True\n",
    "\n",
    "def find_primes(start, end):\n",
    "    primes = []\n",
    "    for num in range(start, end + 1):\n",
    "        if is_prime(num):\n",
    "            primes.append(num)\n",
    "    return primes\n",
    "\n",
    "start = int(input(\"Enter the start of the range: \"))\n",
    "end = int(input(\"Enter the end of the range: \"))\n",
    "primes = find_primes(start, end)\n",
    "print(\"Prime numbers within the range: \", primes)"
   ]
  },
  {
   "cell_type": "code",
   "execution_count": 1,
   "id": "82bb5aed",
   "metadata": {},
   "outputs": [
    {
     "name": "stdout",
     "output_type": "stream",
     "text": [
      "Enter the start of the range: 3\n",
      "Enter the end of the range: 17\n",
      "Prime numbers within the range:  [3, 5, 7, 11, 13, 17]\n"
     ]
    }
   ],
   "source": [
    "def is_prime(n):\n",
    "    if n <= 1:\n",
    "        return False\n",
    "    if n == 2:\n",
    "        return True\n",
    "    if n % 2 == 0:\n",
    "        return False\n",
    "    for i in range(3, int(n**0.5) + 1, 2):\n",
    "        if n % i == 0:\n",
    "            return False\n",
    "    return True\n",
    "\n",
    "def find_primes(start, end):\n",
    "    primes = []\n",
    "    for num in range(start, end + 1):\n",
    "        if is_prime(num):\n",
    "            primes.append(num)\n",
    "    return primes\n",
    "\n",
    "start = int(input(\"Enter the start of the range: \"))\n",
    "end = int(input(\"Enter the end of the range: \"))\n",
    "primes = find_primes(start, end)\n",
    "print(\"Prime numbers within the range: \", primes)"
   ]
  },
  {
   "cell_type": "code",
   "execution_count": null,
   "id": "b999c00c",
   "metadata": {},
   "outputs": [],
   "source": []
  },
  {
   "cell_type": "code",
   "execution_count": 3,
   "id": "892128a6",
   "metadata": {},
   "outputs": [
    {
     "name": "stdout",
     "output_type": "stream",
     "text": [
      "Enter a number: 345\n",
      "345 is not a palindrome.\n"
     ]
    }
   ],
   "source": [
    "def is_palindrome(n):\n",
    "    n = str(n)\n",
    "    return n == n[::-1]\n",
    "\n",
    "num = int(input(\"Enter a number: \"))\n",
    "if is_palindrome(num):\n",
    "    print(num, \"is a palindrome.\")\n",
    "else:\n",
    "    print(num, \"is not a palindrome.\")"
   ]
  },
  {
   "cell_type": "code",
   "execution_count": 5,
   "id": "6bcc4579",
   "metadata": {},
   "outputs": [
    {
     "name": "stdout",
     "output_type": "stream",
     "text": [
      "Enter the number of terms: 01\n",
      "Fibonacci sequence:  [0, 1]\n"
     ]
    }
   ],
   "source": [
    "def generate_fibonacci(n):\n",
    "    fibonacci = [0, 1]\n",
    "    for i in range(2, n):\n",
    "        fibonacci.append(fibonacci[-1] + fibonacci[-2])\n",
    "    return fibonacci\n",
    "\n",
    "n = int(input(\"Enter the number of terms: \"))\n",
    "fibonacci = generate_fibonacci(n)\n",
    "print(\"Fibonacci sequence: \", fibonacci)"
   ]
  },
  {
   "cell_type": "code",
   "execution_count": null,
   "id": "555123f4",
   "metadata": {},
   "outputs": [
    {
     "name": "stdout",
     "output_type": "stream",
     "text": [
      "Guess a number between 1 and 100: 34\n",
      "The number is higher.\n",
      "Guess a number between 1 and 100: 23\n",
      "The number is higher.\n",
      "Guess a number between 1 and 100: 67\n",
      "The number is lower.\n",
      "Guess a number between 1 and 100: 68\n",
      "The number is lower.\n",
      "Guess a number between 1 and 100: 79\n",
      "The number is lower.\n"
     ]
    }
   ],
   "source": [
    "import random\n",
    "\n",
    "def guess_number():\n",
    "    number = random.randint(1, 100)\n",
    "    tries = 0\n",
    "    while True:\n",
    "        guess = int(input(\"Guess a number between 1 and 100: \"))\n",
    "        tries += 1\n",
    "        if guess == number:\n",
    "            print(\"Congratulations! You guessed the correct number in\", tries, \"tries.\")\n",
    "            break\n",
    "        elif guess > number:\n",
    "            print(\"The number is lower.\")\n",
    "        else:\n",
    "            print(\"The number is higher.\")\n",
    "\n",
    "guess_number()"
   ]
  },
  {
   "cell_type": "code",
   "execution_count": null,
   "id": "7b212685",
   "metadata": {},
   "outputs": [],
   "source": []
  }
 ],
 "metadata": {
  "kernelspec": {
   "display_name": "Python 3 (ipykernel)",
   "language": "python",
   "name": "python3"
  },
  "language_info": {
   "codemirror_mode": {
    "name": "ipython",
    "version": 3
   },
   "file_extension": ".py",
   "mimetype": "text/x-python",
   "name": "python",
   "nbconvert_exporter": "python",
   "pygments_lexer": "ipython3",
   "version": "3.11.5"
  }
 },
 "nbformat": 4,
 "nbformat_minor": 5
}
